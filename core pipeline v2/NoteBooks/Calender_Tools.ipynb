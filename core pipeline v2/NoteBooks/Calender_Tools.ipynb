{
 "cells": [
  {
   "cell_type": "code",
   "execution_count": 1,
   "id": "ae32535a-1c4a-4bda-ba41-8ed9f1272808",
   "metadata": {},
   "outputs": [
    {
     "name": "stdout",
     "output_type": "stream",
     "text": [
      "Requirement already satisfied: aixplain in c:\\users\\unclepc\\anaconda3\\lib\\site-packages (0.2.33)\n",
      "Requirement already satisfied: requests>=2.1.0 in c:\\users\\unclepc\\anaconda3\\lib\\site-packages (from aixplain) (2.32.3)\n",
      "Requirement already satisfied: tqdm>=4.1.0 in c:\\users\\unclepc\\anaconda3\\lib\\site-packages (from aixplain) (4.67.1)\n",
      "Requirement already satisfied: pandas>=2.0.0 in c:\\users\\unclepc\\anaconda3\\lib\\site-packages (from aixplain) (2.2.3)\n",
      "Requirement already satisfied: python-dotenv>=1.0.0 in c:\\users\\unclepc\\anaconda3\\lib\\site-packages (from aixplain) (1.1.0)\n",
      "Requirement already satisfied: validators>=0.20.0 in c:\\users\\unclepc\\anaconda3\\lib\\site-packages (from aixplain) (0.35.0)\n",
      "Requirement already satisfied: filetype>=1.2.0 in c:\\users\\unclepc\\anaconda3\\lib\\site-packages (from aixplain) (1.2.0)\n",
      "Requirement already satisfied: click>=7.1.2 in c:\\users\\unclepc\\anaconda3\\lib\\site-packages (from aixplain) (8.1.8)\n",
      "Requirement already satisfied: PyYAML>=6.0.1 in c:\\users\\unclepc\\anaconda3\\lib\\site-packages (from aixplain) (6.0.2)\n",
      "Requirement already satisfied: dataclasses-json>=0.5.2 in c:\\users\\unclepc\\anaconda3\\lib\\site-packages (from aixplain) (0.6.7)\n",
      "Requirement already satisfied: Jinja2==3.1.6 in c:\\users\\unclepc\\anaconda3\\lib\\site-packages (from aixplain) (3.1.6)\n",
      "Requirement already satisfied: sentry-sdk>=1.0.0 in c:\\users\\unclepc\\anaconda3\\lib\\site-packages (from aixplain) (2.18.0)\n",
      "Requirement already satisfied: pydantic>=2.10.6 in c:\\users\\unclepc\\anaconda3\\lib\\site-packages (from aixplain) (2.11.7)\n",
      "Requirement already satisfied: filelock>=3.0.0 in c:\\users\\unclepc\\anaconda3\\lib\\site-packages (from aixplain) (3.17.0)\n",
      "Requirement already satisfied: MarkupSafe>=2.0 in c:\\users\\unclepc\\anaconda3\\lib\\site-packages (from Jinja2==3.1.6->aixplain) (3.0.2)\n",
      "Requirement already satisfied: colorama in c:\\users\\unclepc\\anaconda3\\lib\\site-packages (from click>=7.1.2->aixplain) (0.4.6)\n",
      "Requirement already satisfied: marshmallow<4.0.0,>=3.18.0 in c:\\users\\unclepc\\anaconda3\\lib\\site-packages (from dataclasses-json>=0.5.2->aixplain) (3.26.1)\n",
      "Requirement already satisfied: typing-inspect<1,>=0.4.0 in c:\\users\\unclepc\\anaconda3\\lib\\site-packages (from dataclasses-json>=0.5.2->aixplain) (0.9.0)\n",
      "Requirement already satisfied: packaging>=17.0 in c:\\users\\unclepc\\anaconda3\\lib\\site-packages (from marshmallow<4.0.0,>=3.18.0->dataclasses-json>=0.5.2->aixplain) (24.2)\n",
      "Requirement already satisfied: mypy-extensions>=0.3.0 in c:\\users\\unclepc\\anaconda3\\lib\\site-packages (from typing-inspect<1,>=0.4.0->dataclasses-json>=0.5.2->aixplain) (1.0.0)\n",
      "Requirement already satisfied: typing-extensions>=3.7.4 in c:\\users\\unclepc\\anaconda3\\lib\\site-packages (from typing-inspect<1,>=0.4.0->dataclasses-json>=0.5.2->aixplain) (4.12.2)\n",
      "Requirement already satisfied: numpy>=1.26.0 in c:\\users\\unclepc\\anaconda3\\lib\\site-packages (from pandas>=2.0.0->aixplain) (2.1.3)\n",
      "Requirement already satisfied: python-dateutil>=2.8.2 in c:\\users\\unclepc\\anaconda3\\lib\\site-packages (from pandas>=2.0.0->aixplain) (2.9.0.post0)\n",
      "Requirement already satisfied: pytz>=2020.1 in c:\\users\\unclepc\\anaconda3\\lib\\site-packages (from pandas>=2.0.0->aixplain) (2025.2)\n",
      "Requirement already satisfied: tzdata>=2022.7 in c:\\users\\unclepc\\anaconda3\\lib\\site-packages (from pandas>=2.0.0->aixplain) (2025.2)\n",
      "Requirement already satisfied: annotated-types>=0.6.0 in c:\\users\\unclepc\\anaconda3\\lib\\site-packages (from pydantic>=2.10.6->aixplain) (0.6.0)\n",
      "Requirement already satisfied: pydantic-core==2.33.2 in c:\\users\\unclepc\\anaconda3\\lib\\site-packages (from pydantic>=2.10.6->aixplain) (2.33.2)\n",
      "Requirement already satisfied: typing-inspection>=0.4.0 in c:\\users\\unclepc\\anaconda3\\lib\\site-packages (from pydantic>=2.10.6->aixplain) (0.4.1)\n",
      "Requirement already satisfied: six>=1.5 in c:\\users\\unclepc\\anaconda3\\lib\\site-packages (from python-dateutil>=2.8.2->pandas>=2.0.0->aixplain) (1.17.0)\n",
      "Requirement already satisfied: charset-normalizer<4,>=2 in c:\\users\\unclepc\\anaconda3\\lib\\site-packages (from requests>=2.1.0->aixplain) (3.3.2)\n",
      "Requirement already satisfied: idna<4,>=2.5 in c:\\users\\unclepc\\anaconda3\\lib\\site-packages (from requests>=2.1.0->aixplain) (3.7)\n",
      "Requirement already satisfied: urllib3<3,>=1.21.1 in c:\\users\\unclepc\\anaconda3\\lib\\site-packages (from requests>=2.1.0->aixplain) (2.3.0)\n",
      "Requirement already satisfied: certifi>=2017.4.17 in c:\\users\\unclepc\\anaconda3\\lib\\site-packages (from requests>=2.1.0->aixplain) (2025.8.3)\n"
     ]
    }
   ],
   "source": [
    "!pip install aixplain"
   ]
  },
  {
   "cell_type": "code",
   "execution_count": 2,
   "id": "1379ebfe-c4a8-4d41-8679-e219605ad5f4",
   "metadata": {},
   "outputs": [],
   "source": [
    "import os\n",
    "os.environ[\"AIXPLAIN_API_KEY\"] = \"170c55f035bc7ef663f0144ee120f5719b7fee72e8681016b5223e4bf2c42925\""
   ]
  },
  {
   "cell_type": "code",
   "execution_count": 3,
   "id": "a2fa0d4f-90d1-49c1-ba9e-56fe99b6b725",
   "metadata": {},
   "outputs": [
    {
     "name": "stderr",
     "output_type": "stream",
     "text": [
      "INFO:root:Loading functions from cache...\n",
      "INFO:root:Loading languages from cache...\n",
      "INFO:root:Loading licenses from cache...\n"
     ]
    }
   ],
   "source": [
    "from aixplain.factories import DatasetFactory, ModelFactory,AgentFactory\n",
    "from aixplain.modules.agent.output_format import OutputFormat\n",
    "from aixplain.modules.model.utility_model import UtilityModelInput\n"
   ]
  },
  {
   "cell_type": "markdown",
   "id": "5d14cdac-fbeb-4716-8638-45da6c56a051",
   "metadata": {},
   "source": [
    "## run_by_organizer_date"
   ]
  },
  {
   "cell_type": "code",
   "execution_count": null,
   "id": "3ea06654-1400-41d5-8895-7930cc53a7b9",
   "metadata": {},
   "outputs": [],
   "source": []
  }
 ],
 "metadata": {
  "kernelspec": {
   "display_name": "Python 3 (ipykernel)",
   "language": "python",
   "name": "python3"
  },
  "language_info": {
   "codemirror_mode": {
    "name": "ipython",
    "version": 3
   },
   "file_extension": ".py",
   "mimetype": "text/x-python",
   "name": "python",
   "nbconvert_exporter": "python",
   "pygments_lexer": "ipython3",
   "version": "3.13.5"
  }
 },
 "nbformat": 4,
 "nbformat_minor": 5
}
